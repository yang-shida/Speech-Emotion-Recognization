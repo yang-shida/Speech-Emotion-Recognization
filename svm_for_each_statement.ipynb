{
 "cells": [
  {
   "cell_type": "markdown",
   "metadata": {},
   "source": [
    "# Homework 4 Part 2\n",
    "\n",
    "**Due: Monday, November 9, 11:59 PM**\n",
    "\n",
    "* This is a group assignment (final project team group)."
   ]
  },
  {
   "cell_type": "markdown",
   "metadata": {},
   "source": [
    "# Create Your Repository\n",
    "\n",
    "Create the repo for this assignment by visiting the following link:\n",
    "\n",
    "https://classroom.github.com/g/m2K_Ea-V"
   ]
  },
  {
   "cell_type": "markdown",
   "metadata": {},
   "source": [
    "# Data Set\n",
    "\n",
    "In this assignment, you will be working with the [training data set for the final project](https://ufl.instructure.com/courses/404363/files/folder/Final%20Project/Training%20Data):\n",
    "\n",
    "* *data_training.npy*\n",
    "* *labels_training.npy*\n",
    "\n",
    "**In this homework, you are allowed to use *any* libraries.**"
   ]
  },
  {
   "cell_type": "markdown",
   "metadata": {},
   "source": [
    "# Computing Resources\n",
    "\n",
    "Make full use of the computing resources in the [HiPerGator](https://help.rc.ufl.edu/doc/UFRC_Help_and_Documentation).\n",
    "\n",
    "* Our group is called **\"eee4773\"**.\n",
    "* Refer to the lecture recording from Monday, November 2, for information on how to use the HiPerGator.\n",
    "\n",
    "An alternative is to use the public GPU/TPU resources from [Google Colab](https://colab.research.google.com/notebooks/intro.ipynb)."
   ]
  },
  {
   "cell_type": "markdown",
   "metadata": {},
   "source": [
    "# Communication\n",
    "\n",
    "Make sure you communicate often with your team, and you are all following your work plan. You can schedule Zoom meetings using your UFL account: https://ufl.zoom.us/"
   ]
  },
  {
   "cell_type": "markdown",
   "metadata": {},
   "source": [
    "# Problem 1 (5 points)\n",
    "\n",
    "Get the team together and discuss rules for working in a group. Design at least 3 rules. \n",
    "\n",
    "* I will gather information from all groups and share the consensus group rules.\n",
    "* For the final project submission (code implementation and report), we will use these group rules as a weight contribution for each team member.\n",
    "    * For example, suppose that the average score (includes peer- and self-evaluation according to the rules) is 90%, than your individual project grade will be $0.90 \\times \\text{final project grade}$.\n",
    "    * All fully contributing members, should expect to get 100% on the participation weight score."
   ]
  },
  {
   "cell_type": "markdown",
   "metadata": {},
   "source": [
    "Rules for working in a group:\n",
    "1. Respond to relevant group messages in a timely manner so everyone in the group is on the same page.\n",
    "2. Group members should finish assigned parts on time.\n",
    "3. If a member has trouble finishing the assigned part, he should seek for help from other members as early as possible to allow more time to solve the problem collaboratively.\n",
    "4. Work assignment is not rigid and can be adjusted based on the difficulty encountered when working on it."
   ]
  },
  {
   "cell_type": "markdown",
   "metadata": {},
   "source": [
    "# Problem 2 (10 points)\n",
    "\n",
    "In a standard supervised Machine Learning algorithm, we typically extract features from data and utilize those features to train a model.\n",
    "\n",
    "In this problem, you will be exploring the data set and extracting features from the audio signals. A popular feature for speech signals is the Mel Frequency Cepstral Coefficient (MFCC).\n",
    "\n",
    "**Design at least 2 features.** Compute these features for the training data and build your feature matrix.\n",
    "\n",
    "* Tip: ```librosa``` continues a few tools to extract features from audio, though it is not required for use in this problem.\n",
    "\n",
    "(Note: there are multiple solutions to this problem. Grading will be based on critical reasoning and code implementation.)"
   ]
  },
  {
   "cell_type": "code",
   "execution_count": 1,
   "metadata": {},
   "outputs": [],
   "source": [
    "import numpy as np\n",
    "import librosa, librosa.display\n",
    "from sklearn.metrics import accuracy_score"
   ]
  },
  {
   "cell_type": "code",
   "execution_count": 2,
   "metadata": {},
   "outputs": [],
   "source": [
    "# load data\n",
    "# 2400 x 100000\n",
    "data_training = np.load('data_training.npy')\n",
    "# 1 - 8 (2400 x 1)\n",
    "labels_training = np.load('labels_training.npy')\n",
    "# 1 or 2 (2400 x 1)\n",
    "statements_training = np.load('statements_training.npy')\n",
    "\n",
    "# label is from 1-8, so I added a place holder at position 0\n",
    "labels_names = ['place holder', 'neutral', 'calm', 'happy', 'sad', 'angry', 'fearful', 'disgust', 'surprise']"
   ]
  },
  {
   "cell_type": "code",
   "execution_count": 3,
   "metadata": {},
   "outputs": [
    {
     "name": "stdout",
     "output_type": "stream",
     "text": [
      "(2400, 13)\n"
     ]
    }
   ],
   "source": [
    "# MFCC\n",
    "sr = 44100\n",
    "n_mfcc = 13\n",
    "n_fft_mfcc = 2048\n",
    "hop_length_mfcc = 512\n",
    "\n",
    "MFCC_feature_matrix = []\n",
    "for i in range(data_training.shape[0]):\n",
    "    MFCC_feature_matrix += [librosa.feature.mfcc(data_training[i], sr = sr, n_mfcc = n_mfcc, n_fft = n_fft_mfcc, hop_length = hop_length_mfcc)]\n",
    "MFCC_feature_matrix = np.array(MFCC_feature_matrix)\n",
    "MFCC_feature_matrix = np.mean(MFCC_feature_matrix, axis=2)\n",
    "print(MFCC_feature_matrix.shape)"
   ]
  },
  {
   "cell_type": "code",
   "execution_count": 4,
   "metadata": {},
   "outputs": [
    {
     "name": "stdout",
     "output_type": "stream",
     "text": [
      "(2400, 2049)\n"
     ]
    }
   ],
   "source": [
    "# STFT\n",
    "n_fft_stft = 4096\n",
    "hop_length_stft = 2048\n",
    "\n",
    "STFT_feature_matrix = []\n",
    "for i in range(data_training.shape[0]):\n",
    "    STFT_feature_matrix += [np.abs(librosa.core.stft(data_training[i], n_fft = n_fft_stft, hop_length = hop_length_stft))]\n",
    "STFT_feature_matrix = np.array(STFT_feature_matrix)\n",
    "STFT_feature_matrix = np.mean(STFT_feature_matrix, axis=2)\n",
    "print(STFT_feature_matrix.shape)"
   ]
  },
  {
   "cell_type": "code",
   "execution_count": 5,
   "metadata": {},
   "outputs": [
    {
     "name": "stdout",
     "output_type": "stream",
     "text": [
      "(2400, 128)\n"
     ]
    }
   ],
   "source": [
    "# MELSPECTOGRAM\n",
    "MEL_feature_matrix = []\n",
    "for i in range(data_training.shape[0]):\n",
    "    MEL_feature_matrix += [librosa.feature.melspectrogram(data_training[i])]\n",
    "MEL_feature_matrix = np.array(MEL_feature_matrix)\n",
    "MEL_feature_matrix = np.mean(MEL_feature_matrix, axis=2)\n",
    "print(MEL_feature_matrix.shape)"
   ]
  },
  {
   "cell_type": "code",
   "execution_count": 6,
   "metadata": {},
   "outputs": [
    {
     "name": "stdout",
     "output_type": "stream",
     "text": [
      "(2400, 12)\n"
     ]
    }
   ],
   "source": [
    "# CHROMA\n",
    "CHROMA_feature_matrix = []\n",
    "for i in range(data_training.shape[0]):\n",
    "    CHROMA_feature_matrix += [librosa.feature.chroma_stft(data_training[i])]\n",
    "CHROMA_feature_matrix = np.array(CHROMA_feature_matrix)\n",
    "CHROMA_feature_matrix = np.mean(CHROMA_feature_matrix, axis=2)\n",
    "print(CHROMA_feature_matrix.shape)"
   ]
  },
  {
   "cell_type": "code",
   "execution_count": 7,
   "metadata": {},
   "outputs": [
    {
     "name": "stdout",
     "output_type": "stream",
     "text": [
      "(2400, 1)\n"
     ]
    }
   ],
   "source": [
    "# ZERO CROSSING RATE\n",
    "ZCC_feature_matrix = []\n",
    "for i in range(data_training.shape[0]):\n",
    "    ZCC_feature_matrix += [librosa.feature.zero_crossing_rate(data_training[i])]\n",
    "ZCC_feature_matrix = np.array(ZCC_feature_matrix)\n",
    "ZCC_feature_matrix = np.mean(ZCC_feature_matrix, axis=2)\n",
    "print(ZCC_feature_matrix.shape)"
   ]
  },
  {
   "cell_type": "code",
   "execution_count": 8,
   "metadata": {},
   "outputs": [
    {
     "name": "stdout",
     "output_type": "stream",
     "text": [
      "(2400, 1)\n"
     ]
    }
   ],
   "source": [
    "# ROOT MEAN SQUARE ENERGY\n",
    "RMSE_feature_matrix = []\n",
    "for i in range(data_training.shape[0]):\n",
    "    RMSE_feature_matrix += [librosa.feature.rms(data_training[i])]\n",
    "RMSE_feature_matrix = np.array(RMSE_feature_matrix)\n",
    "RMSE_feature_matrix = np.mean(RMSE_feature_matrix, axis=2)\n",
    "print(RMSE_feature_matrix.shape)"
   ]
  },
  {
   "cell_type": "code",
   "execution_count": 9,
   "metadata": {},
   "outputs": [
    {
     "name": "stdout",
     "output_type": "stream",
     "text": [
      "(2400, 1)\n"
     ]
    }
   ],
   "source": [
    "# SPECTRAL ROLLOFF\n",
    "SRO_feature_matrix = []\n",
    "for i in range(data_training.shape[0]):\n",
    "    SRO_feature_matrix += [librosa.feature.spectral_rolloff(data_training[i])]\n",
    "SRO_feature_matrix = np.array(SRO_feature_matrix)\n",
    "SRO_feature_matrix = np.mean(SRO_feature_matrix, axis=2)\n",
    "print(SRO_feature_matrix.shape)"
   ]
  },
  {
   "cell_type": "markdown",
   "metadata": {},
   "source": [
    "# Problem 3 (30 points)\n",
    "\n",
    "Implement the $k$-NN and SVM classifiers on your training data. You can choose to apply the classifiers:\n",
    "* directly on the input data,\n",
    "* using the features you designed in problem 1,\n",
    "* both input space and feature space, as to compare both performances.\n",
    "\n",
    "In your implementation, you should follow the standard procedures:\n",
    "1. Pre-processing the data, this includes data normalization.\n",
    "2. Split data into training and test sets. Make sure you use the same training set in both classifiers.\n",
    "3. Perform $k$-fold Cross-Validation to determine the best set of parameters for each classifier. Consider using the [```GridSearchCV```](https://scikit-learn.org/stable/modules/generated/sklearn.model_selection.GridSearchCV.html) approach in experimental design.\n",
    "4. Report the results on the test set using appropriate evaluation metrics.\n",
    "5. Include a paragraph that compares the performance of both classifiers, and steps you will take to improve upon these preliminary results.\n",
    "\n",
    "Note: You may include a paragraph description about your experience in using the HiPerGator. If you encounter any issues, please describe them."
   ]
  },
  {
   "cell_type": "code",
   "execution_count": 19,
   "metadata": {},
   "outputs": [
    {
     "name": "stdout",
     "output_type": "stream",
     "text": [
      "(2400, 2062)\n"
     ]
    }
   ],
   "source": [
    "from matplotlib import pyplot as plt\n",
    "from sklearn.model_selection import train_test_split\n",
    "from sklearn.preprocessing import normalize\n",
    "from sklearn.neighbors import KNeighborsClassifier\n",
    "from sklearn.model_selection import GridSearchCV\n",
    "import pandas as pd\n",
    "\n",
    "#FeatureMatrix = np.concatenate((MFCC_feature_matrix, STFT_feature_matrix, MEL_feature_matrix, CHROMA_feature_matrix, ZCC_feature_matrix, RMSE_feature_matrix, SRO_feature_matrix), axis=1)\n",
    "FeatureMatrix = np.concatenate((MFCC_feature_matrix, STFT_feature_matrix), axis=1)\n",
    "print(FeatureMatrix.shape)\n",
    "\n",
    "Y = np.vstack((labels_training, statements_training)).T\n",
    "X_train, X_test, y_train, y_test = train_test_split(FeatureMatrix, Y, test_size=0.20)"
   ]
  },
  {
   "cell_type": "code",
   "execution_count": 60,
   "metadata": {},
   "outputs": [],
   "source": [
    "# SVM\n",
    "from sklearn.svm import SVC # \"Support vector classifier\"\n",
    "\n",
    "#k-FOLD CROSS VALIDATION\n",
    "params_svm = {\n",
    "    \"kernel\" : [\"poly\", \"rbf\"],\n",
    "    \"C\" : list(range(20000, 30000, 100))\n",
    "}\n",
    "GSCV_svm1 = GridSearchCV(SVC(), params_svm, verbose = 3, cv = 3, n_jobs = -1)\n",
    "GSCV_svm2 = GridSearchCV(SVC(), params_svm, verbose = 3, cv = 3, n_jobs = -1)"
   ]
  },
  {
   "cell_type": "code",
   "execution_count": 61,
   "metadata": {
    "scrolled": false
   },
   "outputs": [
    {
     "name": "stdout",
     "output_type": "stream",
     "text": [
      "Fitting 3 folds for each of 200 candidates, totalling 600 fits\n"
     ]
    },
    {
     "name": "stderr",
     "output_type": "stream",
     "text": [
      "[Parallel(n_jobs=-1)]: Using backend LokyBackend with 12 concurrent workers.\n",
      "[Parallel(n_jobs=-1)]: Done   8 tasks      | elapsed:   17.2s\n",
      "[Parallel(n_jobs=-1)]: Done 104 tasks      | elapsed:  2.4min\n",
      "[Parallel(n_jobs=-1)]: Done 264 tasks      | elapsed:  5.8min\n",
      "[Parallel(n_jobs=-1)]: Done 488 tasks      | elapsed: 10.7min\n",
      "[Parallel(n_jobs=-1)]: Done 600 out of 600 | elapsed: 12.9min finished\n"
     ]
    },
    {
     "name": "stdout",
     "output_type": "stream",
     "text": [
      "Fitting 3 folds for each of 200 candidates, totalling 600 fits\n"
     ]
    },
    {
     "name": "stderr",
     "output_type": "stream",
     "text": [
      "[Parallel(n_jobs=-1)]: Using backend LokyBackend with 12 concurrent workers.\n",
      "[Parallel(n_jobs=-1)]: Done   8 tasks      | elapsed:   18.4s\n",
      "[Parallel(n_jobs=-1)]: Done 104 tasks      | elapsed:  1.9min\n",
      "[Parallel(n_jobs=-1)]: Done 264 tasks      | elapsed:  4.6min\n",
      "[Parallel(n_jobs=-1)]: Done 488 tasks      | elapsed:  8.5min\n",
      "[Parallel(n_jobs=-1)]: Done 600 out of 600 | elapsed: 10.3min finished\n"
     ]
    }
   ],
   "source": [
    "Results_label = GSCV_svm1.fit(X_train, y_train[:,0])\n",
    "Results_statements = GSCV_svm2.fit(X_train, y_train[:,1])"
   ]
  },
  {
   "cell_type": "code",
   "execution_count": 62,
   "metadata": {},
   "outputs": [
    {
     "name": "stdout",
     "output_type": "stream",
     "text": [
      "Statement 1 Best: 0.5578124999999999 with parameters {'C': 28400, 'kernel': 'rbf'}\n",
      "Statement 2 Best: 0.8250000000000001 with parameters {'C': 20500, 'kernel': 'rbf'}\n"
     ]
    }
   ],
   "source": [
    "print(\"Statement 1 Best: {} with parameters {}\".format(Results_label.best_score_, Results_label.best_params_ ))\n",
    "print(\"Statement 2 Best: {} with parameters {}\".format(Results_statements.best_score_, Results_statements.best_params_ ))"
   ]
  },
  {
   "cell_type": "code",
   "execution_count": 64,
   "metadata": {},
   "outputs": [
    {
     "name": "stdout",
     "output_type": "stream",
     "text": [
      "Training Label Classifier...\n",
      "Label Classifier score:  0.6208333333333333\n",
      "Training Statement Classifier...\n",
      "Statement Classifier score:  0.84375\n"
     ]
    }
   ],
   "source": [
    "print(\"Training Label Classifier...\")\n",
    "model_s1 = SVC(kernel=Results_label.best_params_['kernel'], \n",
    "            C=Results_label.best_params_['C'])\n",
    "model_s1.fit(X_train, y_train[:,0])\n",
    "pred_mfcc_svm_s1 = model_s1.predict(X_test)\n",
    "print(\"Label Classifier score: \", accuracy_score(y_test[:,0], pred_mfcc_svm_s1))\n",
    "\n",
    "print(\"Training Statement Classifier...\")\n",
    "model_s2 = SVC(kernel=Results_statements.best_params_['kernel'], \n",
    "            C=Results_statements.best_params_['C'])\n",
    "model_s2.fit(X_train, y_train[:,1])\n",
    "pred_mfcc_svm_s2 = model_s2.predict(X_test)\n",
    "print(\"Statement Classifier score: \", accuracy_score(y_test[:,1], pred_mfcc_svm_s2))"
   ]
  },
  {
   "cell_type": "markdown",
   "metadata": {},
   "source": [
    "SVM did slightly better than k-NN did. In this homework, we trained multiple models using different features to classify both the emotion and statement labels. In the future, we will combine both features (MFCC and STFT) and maybe use statement label as one of our features to train a single model that does the classification."
   ]
  },
  {
   "cell_type": "markdown",
   "metadata": {},
   "source": [
    "## Submit your Solution\n",
    "\n",
    "Confirm that you've successfully completed the assignment.\n",
    "\n",
    "Along with the Notebook, include a PDF of the notebook with your solutions.\n",
    "\n",
    "```add``` and ```commit``` the final version of your work, and ```push``` your code to your GitHub repository.\n",
    "\n",
    "Submit the URL of your GitHub Repository as your assignment submission on Canvas. \n",
    "* **Only one team member should submit the group repository URL to Canvas.**"
   ]
  },
  {
   "cell_type": "code",
   "execution_count": null,
   "metadata": {},
   "outputs": [],
   "source": []
  }
 ],
 "metadata": {
  "kernelspec": {
   "display_name": "Python 3",
   "language": "python",
   "name": "python3"
  },
  "language_info": {
   "codemirror_mode": {
    "name": "ipython",
    "version": 3
   },
   "file_extension": ".py",
   "mimetype": "text/x-python",
   "name": "python",
   "nbconvert_exporter": "python",
   "pygments_lexer": "ipython3",
   "version": "3.8.3"
  }
 },
 "nbformat": 4,
 "nbformat_minor": 4
}
